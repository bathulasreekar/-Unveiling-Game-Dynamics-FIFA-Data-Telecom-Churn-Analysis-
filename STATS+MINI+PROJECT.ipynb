{
 "cells": [
  {
   "cell_type": "markdown",
   "id": "e7c15024",
   "metadata": {},
   "source": [
    "# STATS MINI PROJECT"
   ]
  },
  {
   "cell_type": "code",
   "execution_count": 1,
   "id": "d6b873da",
   "metadata": {},
   "outputs": [],
   "source": [
    "import pandas as pd \n",
    "\n",
    "# import 'numpy' \n",
    "import numpy as np\n",
    "\n",
    "# to suppress warnings \n",
    "from warnings import filterwarnings\n",
    "filterwarnings('ignore')\n",
    "\n",
    "# import statsmodels\n",
    "import statsmodels.api as sm\n",
    "from statsmodels.formula.api import ols\n",
    "from statsmodels.stats.anova import anova_lm\n",
    "\n",
    "# import 'stats' package from scipy library\n",
    "from scipy import stats\n",
    "import statistics\n",
    "\n",
    "# import the functions to perform Chi-square tests\n",
    "from scipy.stats import chi2_contingency\n",
    "from scipy.stats import chi2\n",
    "from scipy.stats import chisquare\n",
    "\n",
    "# function to perform post-hoc test\n",
    "import statsmodels.stats.multicomp as mc\n",
    "from scipy.stats import randint\n",
    "import random"
   ]
  },
  {
   "cell_type": "code",
   "execution_count": 2,
   "id": "04f39749",
   "metadata": {},
   "outputs": [],
   "source": [
    "import seaborn as sns\n",
    "import matplotlib.pyplot as plt\n"
   ]
  },
  {
   "cell_type": "code",
   "execution_count": 2,
   "id": "24aa5c7a",
   "metadata": {},
   "outputs": [
    {
     "data": {
      "text/html": [
       "<div>\n",
       "<style scoped>\n",
       "    .dataframe tbody tr th:only-of-type {\n",
       "        vertical-align: middle;\n",
       "    }\n",
       "\n",
       "    .dataframe tbody tr th {\n",
       "        vertical-align: top;\n",
       "    }\n",
       "\n",
       "    .dataframe thead th {\n",
       "        text-align: right;\n",
       "    }\n",
       "</style>\n",
       "<table border=\"1\" class=\"dataframe\">\n",
       "  <thead>\n",
       "    <tr style=\"text-align: right;\">\n",
       "      <th></th>\n",
       "      <th>Name</th>\n",
       "      <th>Age</th>\n",
       "      <th>Nationality</th>\n",
       "      <th>Overall_rating</th>\n",
       "      <th>Potential</th>\n",
       "      <th>Club</th>\n",
       "      <th>Preferred Foot</th>\n",
       "      <th>International Reputation</th>\n",
       "      <th>Weak Foot</th>\n",
       "      <th>Skill Moves</th>\n",
       "      <th>Work Rate</th>\n",
       "      <th>Position</th>\n",
       "      <th>Jersey Number</th>\n",
       "      <th>Height</th>\n",
       "      <th>Weight</th>\n",
       "    </tr>\n",
       "  </thead>\n",
       "  <tbody>\n",
       "    <tr>\n",
       "      <th>0</th>\n",
       "      <td>L. Messi</td>\n",
       "      <td>31</td>\n",
       "      <td>Argentina</td>\n",
       "      <td>94</td>\n",
       "      <td>94</td>\n",
       "      <td>FC Barcelona</td>\n",
       "      <td>Left</td>\n",
       "      <td>5</td>\n",
       "      <td>4</td>\n",
       "      <td>4</td>\n",
       "      <td>Medium/ Medium</td>\n",
       "      <td>RF</td>\n",
       "      <td>10</td>\n",
       "      <td>5.583333</td>\n",
       "      <td>159</td>\n",
       "    </tr>\n",
       "    <tr>\n",
       "      <th>1</th>\n",
       "      <td>Cristiano Ronaldo</td>\n",
       "      <td>33</td>\n",
       "      <td>Portugal</td>\n",
       "      <td>94</td>\n",
       "      <td>94</td>\n",
       "      <td>Juventus</td>\n",
       "      <td>Right</td>\n",
       "      <td>5</td>\n",
       "      <td>4</td>\n",
       "      <td>5</td>\n",
       "      <td>High/ Low</td>\n",
       "      <td>ST</td>\n",
       "      <td>7</td>\n",
       "      <td>6.166667</td>\n",
       "      <td>183</td>\n",
       "    </tr>\n",
       "    <tr>\n",
       "      <th>2</th>\n",
       "      <td>Neymar Jr</td>\n",
       "      <td>26</td>\n",
       "      <td>Brazil</td>\n",
       "      <td>92</td>\n",
       "      <td>93</td>\n",
       "      <td>Paris Saint-Germain</td>\n",
       "      <td>Right</td>\n",
       "      <td>5</td>\n",
       "      <td>5</td>\n",
       "      <td>5</td>\n",
       "      <td>High/ Medium</td>\n",
       "      <td>LW</td>\n",
       "      <td>10</td>\n",
       "      <td>5.750000</td>\n",
       "      <td>150</td>\n",
       "    </tr>\n",
       "    <tr>\n",
       "      <th>3</th>\n",
       "      <td>De Gea</td>\n",
       "      <td>27</td>\n",
       "      <td>Spain</td>\n",
       "      <td>91</td>\n",
       "      <td>93</td>\n",
       "      <td>Manchester United</td>\n",
       "      <td>Right</td>\n",
       "      <td>4</td>\n",
       "      <td>3</td>\n",
       "      <td>1</td>\n",
       "      <td>Medium/ Medium</td>\n",
       "      <td>GK</td>\n",
       "      <td>1</td>\n",
       "      <td>6.333333</td>\n",
       "      <td>168</td>\n",
       "    </tr>\n",
       "    <tr>\n",
       "      <th>4</th>\n",
       "      <td>K. De Bruyne</td>\n",
       "      <td>27</td>\n",
       "      <td>Belgium</td>\n",
       "      <td>91</td>\n",
       "      <td>92</td>\n",
       "      <td>Manchester City</td>\n",
       "      <td>Right</td>\n",
       "      <td>4</td>\n",
       "      <td>5</td>\n",
       "      <td>4</td>\n",
       "      <td>High/ High</td>\n",
       "      <td>RCM</td>\n",
       "      <td>7</td>\n",
       "      <td>5.083333</td>\n",
       "      <td>154</td>\n",
       "    </tr>\n",
       "  </tbody>\n",
       "</table>\n",
       "</div>"
      ],
      "text/plain": [
       "                Name  Age Nationality  Overall_rating  Potential  \\\n",
       "0           L. Messi   31   Argentina              94         94   \n",
       "1  Cristiano Ronaldo   33    Portugal              94         94   \n",
       "2          Neymar Jr   26      Brazil              92         93   \n",
       "3             De Gea   27       Spain              91         93   \n",
       "4       K. De Bruyne   27     Belgium              91         92   \n",
       "\n",
       "                  Club Preferred Foot  International Reputation  Weak Foot  \\\n",
       "0         FC Barcelona           Left                         5          4   \n",
       "1             Juventus          Right                         5          4   \n",
       "2  Paris Saint-Germain          Right                         5          5   \n",
       "3    Manchester United          Right                         4          3   \n",
       "4      Manchester City          Right                         4          5   \n",
       "\n",
       "   Skill Moves       Work Rate Position  Jersey Number    Height  Weight  \n",
       "0            4  Medium/ Medium       RF             10  5.583333     159  \n",
       "1            5       High/ Low       ST              7  6.166667     183  \n",
       "2            5    High/ Medium       LW             10  5.750000     150  \n",
       "3            1  Medium/ Medium       GK              1  6.333333     168  \n",
       "4            4      High/ High      RCM              7  5.083333     154  "
      ]
     },
     "execution_count": 2,
     "metadata": {},
     "output_type": "execute_result"
    }
   ],
   "source": [
    "data= pd.read_csv('fifa_stats.csv')\n",
    "data.head()"
   ]
  },
  {
   "cell_type": "markdown",
   "id": "56c8521f",
   "metadata": {},
   "source": [
    "# BASIC EDA"
   ]
  },
  {
   "cell_type": "code",
   "execution_count": 5,
   "id": "05147a6f",
   "metadata": {},
   "outputs": [
    {
     "data": {
      "text/plain": [
       "Name                        0.00\n",
       "Age                         0.00\n",
       "Nationality                 0.00\n",
       "Overall_rating              0.00\n",
       "Potential                   0.00\n",
       "Club                        0.95\n",
       "Preferred Foot              0.00\n",
       "International Reputation    0.00\n",
       "Weak Foot                   0.00\n",
       "Skill Moves                 0.00\n",
       "Work Rate                   0.00\n",
       "Position                    0.00\n",
       "Jersey Number               0.00\n",
       "Height                      0.00\n",
       "Weight                      0.00\n",
       "dtype: float64"
      ]
     },
     "execution_count": 5,
     "metadata": {},
     "output_type": "execute_result"
    }
   ],
   "source": [
    "data.isnull().sum()/len(data)*100"
   ]
  },
  {
   "cell_type": "code",
   "execution_count": 6,
   "id": "57aadb3a",
   "metadata": {},
   "outputs": [
    {
     "data": {
      "text/plain": [
       "2000"
      ]
     },
     "execution_count": 6,
     "metadata": {},
     "output_type": "execute_result"
    }
   ],
   "source": [
    "len(data)"
   ]
  },
  {
   "cell_type": "code",
   "execution_count": null,
   "id": "fb5cd928",
   "metadata": {},
   "outputs": [],
   "source": [
    "# the % of missing values is less 10% we ingore it."
   ]
  },
  {
   "cell_type": "code",
   "execution_count": 7,
   "id": "b66501eb",
   "metadata": {},
   "outputs": [
    {
     "data": {
      "text/plain": [
       "(2000, 15)"
      ]
     },
     "execution_count": 7,
     "metadata": {},
     "output_type": "execute_result"
    }
   ],
   "source": [
    "data.shape"
   ]
  },
  {
   "cell_type": "code",
   "execution_count": 8,
   "id": "b80ca3fe",
   "metadata": {},
   "outputs": [
    {
     "data": {
      "text/plain": [
       "Name                         object\n",
       "Age                           int64\n",
       "Nationality                  object\n",
       "Overall_rating                int64\n",
       "Potential                     int64\n",
       "Club                         object\n",
       "Preferred Foot               object\n",
       "International Reputation      int64\n",
       "Weak Foot                     int64\n",
       "Skill Moves                   int64\n",
       "Work Rate                    object\n",
       "Position                     object\n",
       "Jersey Number                 int64\n",
       "Height                      float64\n",
       "Weight                        int64\n",
       "dtype: object"
      ]
     },
     "execution_count": 8,
     "metadata": {},
     "output_type": "execute_result"
    }
   ],
   "source": [
    "data.dtypes"
   ]
  },
  {
   "cell_type": "code",
   "execution_count": null,
   "id": "fb0dfb31",
   "metadata": {},
   "outputs": [],
   "source": [
    "# All the data types are assigned appropriately hence not doing any modifications."
   ]
  },
  {
   "cell_type": "markdown",
   "id": "02df10fa",
   "metadata": {},
   "source": [
    "a)\tAssuming age as population, perform the central limit theorem with sample size of 200. Find the standard error and the mean of sampling distribution. Compare the results with population mean and standard deviation. Explain in non-technical terms why the estimated standard error of a sample mean tends to decrease with an increase in sample size"
   ]
  },
  {
   "cell_type": "code",
   "execution_count": 24,
   "id": "8d8503d1",
   "metadata": {},
   "outputs": [
    {
     "name": "stdout",
     "output_type": "stream",
     "text": [
      "[26, 30, 20, 26, 20, 30, 32, 24, 32, 25, 32, 23, 34, 22, 30, 21, 26, 27, 26, 26, 26, 24, 30, 29, 27, 33, 27, 30, 29, 33, 31, 27, 25, 23, 34, 31, 33, 27, 25, 25, 30, 26, 27, 26, 30, 28, 25, 26, 23, 26, 40, 30, 26, 26, 22, 29, 28, 24, 26, 32, 29, 25, 24, 32, 25, 28, 28, 27, 29, 27, 28, 27, 21, 24, 29, 25, 24, 27, 22, 28, 24, 22, 28, 29, 28, 25, 25, 30, 26, 24, 30, 28, 25, 29, 27, 29, 29, 25, 29, 27, 25, 26, 25, 28, 24, 31, 28, 27, 31, 25, 27, 30, 29, 26, 21, 24, 30, 34, 29, 28, 23, 23, 31, 31, 26, 35, 30, 23, 23, 37, 28, 28, 24, 23, 27, 30, 25, 29, 31, 26, 31, 25, 28, 27, 25, 25, 32, 23, 19, 24, 31, 23, 21, 24, 24, 26, 26, 31, 23, 34, 30, 37, 34, 33, 29, 36, 28, 28, 29, 30, 27, 29, 20, 20, 25, 33, 25, 27, 27, 25, 27, 21, 34, 33, 22, 23, 32, 23, 22, 30, 28, 32, 30, 23, 26, 32, 27, 19, 29, 27]\n",
      "Sample Mean 27.27\n",
      "Sample Std 3.7237658574088703\n",
      "Population Mean 27.2315\n",
      "Poplulation Std 3.8580963894127795\n"
     ]
    }
   ],
   "source": [
    "random.seed(1)\n",
    "n= 200\n",
    "alpha = 0.05\n",
    "random_sample = random.sample(population = list(data['Age']),k=200)\n",
    "print(random_sample)\n",
    "sample_mean = np.mean(random_sample)\n",
    "sample_std= statistics.stdev(random_sample)\n",
    "print(\"Sample Mean\",sample_mean)\n",
    "print('Sample Std',sample_std)\n",
    "pop_mean = np.mean(data['Age'])\n",
    "pop_std = np.std(data['Age'])\n",
    "print(\"Population Mean\",pop_mean)\n",
    "print('Poplulation Std',pop_std)"
   ]
  },
  {
   "cell_type": "code",
   "execution_count": 25,
   "id": "f48bdd9b",
   "metadata": {},
   "outputs": [
    {
     "name": "stdout",
     "output_type": "stream",
     "text": [
      "Central Limit Theorem Z: 0.1462154824880671\n",
      "Standard error: 0.2728086119425111\n"
     ]
    }
   ],
   "source": [
    "z = (sample_mean - pop_mean)/(sample_std/np.sqrt(n))\n",
    "print(\"Central Limit Theorem Z:\",z)\n",
    "standard_error = pop_std/np.sqrt(n)\n",
    "print(\"Standard error:\",standard_error)"
   ]
  },
  {
   "cell_type": "code",
   "execution_count": null,
   "id": "bd31c530",
   "metadata": {},
   "outputs": [],
   "source": [
    "# Population parameter is equal to sample statistics.\n",
    "# As the sample size increases , it slowly matches with the size of the poplutaion and hence there will be\n",
    "# no much difference between sample and poplulation , hence the standard error in inversely proportional to sample size."
   ]
  },
  {
   "cell_type": "markdown",
   "id": "2dde0daa",
   "metadata": {},
   "source": [
    "b)\tIs there any evidence that the players overall rating is greater than 80?"
   ]
  },
  {
   "cell_type": "code",
   "execution_count": 31,
   "id": "5f7fcd77",
   "metadata": {},
   "outputs": [
    {
     "name": "stdout",
     "output_type": "stream",
     "text": [
      "[26, 30, 20, 26, 20, 30, 32, 24, 32, 25, 32, 23, 34, 22, 30, 21, 26, 27, 26, 26, 26, 24, 30, 29, 27, 33, 27, 30, 29, 33, 31, 27, 25, 23, 34, 31, 33, 27, 25, 25, 30, 26, 27, 26, 30, 28, 25, 26, 23, 26, 40, 30, 26, 26, 22, 29, 28, 24, 26, 32, 29, 25, 24, 32, 25, 28, 28, 27, 29, 27, 28, 27, 21, 24, 29, 25, 24, 27, 22, 28, 24, 22, 28, 29, 28, 25, 25, 30, 26, 24, 30, 28, 25, 29, 27, 29, 29, 25, 29, 27, 25, 26, 25, 28, 24, 31, 28, 27, 31, 25, 27, 30, 29, 26, 21, 24, 30, 34, 29, 28, 23, 23, 31, 31, 26, 35, 30, 23, 23, 37, 28, 28, 24, 23, 27, 30, 25, 29, 31, 26, 31, 25, 28, 27, 25, 25, 32, 23, 19, 24, 31, 23, 21, 24, 24, 26, 26, 31, 23, 34, 30, 37, 34, 33, 29, 36, 28, 28, 29, 30, 27, 29, 20, 20, 25, 33, 25, 27, 27, 25, 27, 21, 34, 33, 22, 23, 32, 23, 22, 30, 28, 32, 30, 23, 26, 32, 27, 19, 29, 27]\n",
      "Sample Mean 77.965\n",
      "Population Mean 78.197\n",
      "Poplulation Std 3.285147028673068\n"
     ]
    }
   ],
   "source": [
    "# H0 Average rating is <=80\n",
    "# H1 Average rating is >80\n",
    "\n",
    "# Considering the sample size to be 200\n",
    "# As sample is greater than 30 we are going with z test.\n",
    "random.seed(1)\n",
    "random_s = random.sample(population=list(data['Overall_rating']),k=200)\n",
    "pop_std= np.std(data['Overall_rating'])\n",
    "pop_mean = np.mean(data['Overall_rating'])\n",
    "samp_mean= np.mean(random_s)\n",
    "alpha = 0.05\n",
    "n=200\n",
    "print(random_sample)\n",
    "print(\"Sample Mean\",samp_mean)\n",
    "print(\"Population Mean\",pop_mean)\n",
    "print('Poplulation Std',pop_std)"
   ]
  },
  {
   "cell_type": "code",
   "execution_count": 34,
   "id": "d95ecb1c",
   "metadata": {},
   "outputs": [
    {
     "name": "stdout",
     "output_type": "stream",
     "text": [
      "Critical value: 1.6448536269514729\n",
      "Zscore : -0.9987301743480316\n"
     ]
    }
   ],
   "source": [
    "# critical value\n",
    "\n",
    "z_alpha = stats.norm.isf(q=0.05)\n",
    "print('Critical value:',z_alpha)\n",
    "\n",
    "# Test statistics\n",
    "\n",
    "z_score = (samp_mean - pop_mean) / (pop_std / np.sqrt(n))\n",
    "print(\"Zscore :\",z_score)"
   ]
  },
  {
   "cell_type": "code",
   "execution_count": 35,
   "id": "1b4a9cde",
   "metadata": {},
   "outputs": [
    {
     "name": "stdout",
     "output_type": "stream",
     "text": [
      "Pvalue : 0.8410372903518588\n"
     ]
    }
   ],
   "source": [
    "# p value\n",
    "\n",
    "p_val = stats.norm.sf(z_score)\n",
    "print(\"Pvalue :\",p_val)"
   ]
  },
  {
   "cell_type": "code",
   "execution_count": null,
   "id": "3b76b353",
   "metadata": {},
   "outputs": [],
   "source": [
    "# Pval > 0.05 and zscore lies in the critical region i.e acceptance region\n",
    "# We fail to reject null hypothesis."
   ]
  },
  {
   "cell_type": "markdown",
   "id": "1ea73ee2",
   "metadata": {},
   "source": [
    "c)\tPerform the statistical test to identify whether preferred foot has any impact on potential. Also, perform the graphical analysis."
   ]
  },
  {
   "cell_type": "code",
   "execution_count": 36,
   "id": "6abe7d95",
   "metadata": {},
   "outputs": [
    {
     "data": {
      "text/plain": [
       "Right    1534\n",
       "Left      466\n",
       "Name: Preferred Foot, dtype: int64"
      ]
     },
     "execution_count": 36,
     "metadata": {},
     "output_type": "execute_result"
    }
   ],
   "source": [
    "data['Preferred Foot'].value_counts()"
   ]
  },
  {
   "cell_type": "code",
   "execution_count": 37,
   "id": "345195cf",
   "metadata": {},
   "outputs": [
    {
     "name": "stdout",
     "output_type": "stream",
     "text": [
      "ShapiroResult(statistic=0.9384800791740417, pvalue=5.016414837142018e-28)\n"
     ]
    }
   ],
   "source": [
    "# Performing Anova test\n",
    "# Check for normality\n",
    "\n",
    "print(stats.shapiro(data['Potential']))"
   ]
  },
  {
   "cell_type": "code",
   "execution_count": 38,
   "id": "a3a70886",
   "metadata": {},
   "outputs": [],
   "source": [
    "# The pval is < 0.05 hence the data is not normally distributed.\n",
    "# Hence We will perform Krushkal's wallis test\n",
    "\n",
    "# H0: Two average are equal / They have no impact\n",
    "# H1 : Atleast one is not equal / They have imapct \n",
    "\n",
    "df1 = data[data['Preferred Foot']=='Right']['Potential']\n",
    "df2 = data[data['Preferred Foot']=='Left']['Potential']"
   ]
  },
  {
   "cell_type": "code",
   "execution_count": 39,
   "id": "21a13ef6",
   "metadata": {},
   "outputs": [
    {
     "data": {
      "text/plain": [
       "KruskalResult(statistic=1.481069098122691, pvalue=0.22360732687859053)"
      ]
     },
     "execution_count": 39,
     "metadata": {},
     "output_type": "execute_result"
    }
   ],
   "source": [
    "stats.kruskal(df1,df2)"
   ]
  },
  {
   "cell_type": "code",
   "execution_count": null,
   "id": "3fd2aa76",
   "metadata": {},
   "outputs": [],
   "source": [
    "# We fail to reject Null hypothesis.\n",
    "# I.e Preferred Foot has not impact on the potential."
   ]
  },
  {
   "cell_type": "code",
   "execution_count": 43,
   "id": "e2a045b5",
   "metadata": {},
   "outputs": [
    {
     "data": {
      "image/png": "[encoded data removed]",
      "text/plain": [
       "<Figure size 432x288 with 1 Axes>"
      ]
     },
     "metadata": {
      "needs_background": "light"
     },
     "output_type": "display_data"
    }
   ],
   "source": [
    "# Perform Graphical Analysis.\n",
    "sns.boxplot(data['Preferred Foot'],data['Potential'],data=data)\n",
    "plt.show()"
   ]
  },
  {
   "cell_type": "code",
   "execution_count": null,
   "id": "f392cca5",
   "metadata": {},
   "outputs": [],
   "source": [
    "# As we can see the medians of both the foot are equal. Hence there is no impact on potential based on foot."
   ]
  },
  {
   "cell_type": "markdown",
   "id": "ca442977",
   "metadata": {},
   "source": [
    "d)\tPerform the statistical test to identify the relation between the overall rating and potential. [Assume both are continuous data points]."
   ]
  },
  {
   "cell_type": "code",
   "execution_count": 44,
   "id": "32529399",
   "metadata": {},
   "outputs": [
    {
     "name": "stdout",
     "output_type": "stream",
     "text": [
      "ShapiroResult(statistic=0.8525537848472595, pvalue=1.0221183102662362e-39)\n",
      "ShapiroResult(statistic=0.9384800791740417, pvalue=5.016414837142018e-28)\n"
     ]
    }
   ],
   "source": [
    "# Checking for noramlity\n",
    "\n",
    "print(stats.shapiro(data['Overall_rating']))\n",
    "print(stats.shapiro(data['Potential']))"
   ]
  },
  {
   "cell_type": "code",
   "execution_count": 45,
   "id": "bad2d2e9",
   "metadata": {},
   "outputs": [
    {
     "data": {
      "text/html": [
       "<div>\n",
       "<style scoped>\n",
       "    .dataframe tbody tr th:only-of-type {\n",
       "        vertical-align: middle;\n",
       "    }\n",
       "\n",
       "    .dataframe tbody tr th {\n",
       "        vertical-align: top;\n",
       "    }\n",
       "\n",
       "    .dataframe thead th {\n",
       "        text-align: right;\n",
       "    }\n",
       "</style>\n",
       "<table border=\"1\" class=\"dataframe\">\n",
       "  <thead>\n",
       "    <tr style=\"text-align: right;\">\n",
       "      <th></th>\n",
       "      <th>Overall_rating</th>\n",
       "      <th>Potential</th>\n",
       "    </tr>\n",
       "  </thead>\n",
       "  <tbody>\n",
       "    <tr>\n",
       "      <th>Overall_rating</th>\n",
       "      <td>1.000000</td>\n",
       "      <td>0.690448</td>\n",
       "    </tr>\n",
       "    <tr>\n",
       "      <th>Potential</th>\n",
       "      <td>0.690448</td>\n",
       "      <td>1.000000</td>\n",
       "    </tr>\n",
       "  </tbody>\n",
       "</table>\n",
       "</div>"
      ],
      "text/plain": [
       "                Overall_rating  Potential\n",
       "Overall_rating        1.000000   0.690448\n",
       "Potential             0.690448   1.000000"
      ]
     },
     "execution_count": 45,
     "metadata": {},
     "output_type": "execute_result"
    }
   ],
   "source": [
    "# As the data is not normally distributed we will make use of spearman correlation method\n",
    "\n",
    "data[['Overall_rating','Potential']].corr(method='spearman')"
   ]
  },
  {
   "cell_type": "code",
   "execution_count": null,
   "id": "0d2da714",
   "metadata": {},
   "outputs": [],
   "source": [
    "# Overall rating and Portential are Strong Positively correlated. 0.69"
   ]
  },
  {
   "cell_type": "markdown",
   "id": "c4990e1a",
   "metadata": {},
   "source": [
    "e)\tDoes skill move have any effect in overall rating. Perform the graphical analysis and the statistical analysis."
   ]
  },
  {
   "cell_type": "code",
   "execution_count": 46,
   "id": "e07c320a",
   "metadata": {},
   "outputs": [
    {
     "name": "stdout",
     "output_type": "stream",
     "text": [
      "ShapiroResult(statistic=0.8525537848472595, pvalue=1.0221183102662362e-39)\n"
     ]
    }
   ],
   "source": [
    "# Checking for normality\n",
    "\n",
    "print(stats.shapiro(data['Overall_rating']))"
   ]
  },
  {
   "cell_type": "code",
   "execution_count": 48,
   "id": "56dfcfaa",
   "metadata": {},
   "outputs": [
    {
     "data": {
      "text/plain": [
       "3    828\n",
       "4    544\n",
       "2    395\n",
       "1    194\n",
       "5     39\n",
       "Name: Skill Moves, dtype: int64"
      ]
     },
     "execution_count": 48,
     "metadata": {},
     "output_type": "execute_result"
    }
   ],
   "source": [
    "# As the data is not normally distributed we are going with kruskal wallis test\n",
    "# H0 : The aerages are equal / Skill move has not effect on Overall rating\n",
    "# H1 : Atleast one average is not equal /Skill move has effect on Overall rating\n",
    "\n",
    "data['Skill Moves'].value_counts()"
   ]
  },
  {
   "cell_type": "code",
   "execution_count": 49,
   "id": "d9b60851",
   "metadata": {},
   "outputs": [],
   "source": [
    "df1=data[data['Skill Moves']==1]['Overall_rating']\n",
    "df2=data[data['Skill Moves']==2]['Overall_rating']\n",
    "df3=data[data['Skill Moves']==3]['Overall_rating']\n",
    "df4=data[data['Skill Moves']==4]['Overall_rating']\n",
    "df5=data[data['Skill Moves']==5]['Overall_rating']"
   ]
  },
  {
   "cell_type": "code",
   "execution_count": 50,
   "id": "77ab24ae",
   "metadata": {},
   "outputs": [
    {
     "data": {
      "text/plain": [
       "KruskalResult(statistic=104.85780927711181, pvalue=9.082225777036205e-22)"
      ]
     },
     "execution_count": 50,
     "metadata": {},
     "output_type": "execute_result"
    }
   ],
   "source": [
    "stats.kruskal(df1,df2,df3,df4,df5)"
   ]
  },
  {
   "cell_type": "code",
   "execution_count": null,
   "id": "456241d7",
   "metadata": {},
   "outputs": [],
   "source": [
    "# As p val < 0.05 we reject null hypothesis . ie the Skill move has effect on Overall rating."
   ]
  },
  {
   "cell_type": "code",
   "execution_count": 52,
   "id": "51ab95ec",
   "metadata": {},
   "outputs": [
    {
     "data": {
      "image/png": "[encoded data removed]",
      "text/plain": [
       "<Figure size 432x288 with 1 Axes>"
      ]
     },
     "metadata": {
      "needs_background": "light"
     },
     "output_type": "display_data"
    }
   ],
   "source": [
    "# Graphical Analysis\n",
    "\n",
    "sns.boxplot(data['Skill Moves'],data['Overall_rating'])\n",
    "plt.show()  "
   ]
  },
  {
   "cell_type": "code",
   "execution_count": null,
   "id": "3cb11079",
   "metadata": {},
   "outputs": [],
   "source": [
    "# As the Medians are different we can infer that the Skill Moves has an effect on overall rating."
   ]
  },
  {
   "cell_type": "code",
   "execution_count": 129,
   "id": "57490146",
   "metadata": {},
   "outputs": [
    {
     "data": {
      "text/html": [
       "<div>\n",
       "<style scoped>\n",
       "    .dataframe tbody tr th:only-of-type {\n",
       "        vertical-align: middle;\n",
       "    }\n",
       "\n",
       "    .dataframe tbody tr th {\n",
       "        vertical-align: top;\n",
       "    }\n",
       "\n",
       "    .dataframe thead th {\n",
       "        text-align: right;\n",
       "    }\n",
       "</style>\n",
       "<table border=\"1\" class=\"dataframe\">\n",
       "  <thead>\n",
       "    <tr style=\"text-align: right;\">\n",
       "      <th></th>\n",
       "      <th>date</th>\n",
       "      <th>duration</th>\n",
       "      <th>item</th>\n",
       "      <th>month</th>\n",
       "      <th>network</th>\n",
       "      <th>network_type</th>\n",
       "    </tr>\n",
       "  </thead>\n",
       "  <tbody>\n",
       "    <tr>\n",
       "      <th>0</th>\n",
       "      <td>15-10-14 6:58</td>\n",
       "      <td>221.321120</td>\n",
       "      <td>data</td>\n",
       "      <td>2014-11</td>\n",
       "      <td>data</td>\n",
       "      <td>data</td>\n",
       "    </tr>\n",
       "    <tr>\n",
       "      <th>1</th>\n",
       "      <td>15-10-14 6:58</td>\n",
       "      <td>81.610599</td>\n",
       "      <td>call</td>\n",
       "      <td>2014-11</td>\n",
       "      <td>Vodafone</td>\n",
       "      <td>mobile</td>\n",
       "    </tr>\n",
       "    <tr>\n",
       "      <th>2</th>\n",
       "      <td>15-10-14 14:46</td>\n",
       "      <td>143.109111</td>\n",
       "      <td>call</td>\n",
       "      <td>2014-11</td>\n",
       "      <td>Meteor</td>\n",
       "      <td>mobile</td>\n",
       "    </tr>\n",
       "    <tr>\n",
       "      <th>3</th>\n",
       "      <td>15-10-14 14:48</td>\n",
       "      <td>111.888670</td>\n",
       "      <td>call</td>\n",
       "      <td>2014-11</td>\n",
       "      <td>Tesco</td>\n",
       "      <td>mobile</td>\n",
       "    </tr>\n",
       "    <tr>\n",
       "      <th>4</th>\n",
       "      <td>15-10-14 17:27</td>\n",
       "      <td>246.695171</td>\n",
       "      <td>call</td>\n",
       "      <td>2014-11</td>\n",
       "      <td>Tesco</td>\n",
       "      <td>mobile</td>\n",
       "    </tr>\n",
       "  </tbody>\n",
       "</table>\n",
       "</div>"
      ],
      "text/plain": [
       "             date    duration  item    month   network network_type\n",
       "0   15-10-14 6:58  221.321120  data  2014-11      data         data\n",
       "1   15-10-14 6:58   81.610599  call  2014-11  Vodafone       mobile\n",
       "2  15-10-14 14:46  143.109111  call  2014-11    Meteor       mobile\n",
       "3  15-10-14 14:48  111.888670  call  2014-11     Tesco       mobile\n",
       "4  15-10-14 17:27  246.695171  call  2014-11     Tesco       mobile"
      ]
     },
     "execution_count": 129,
     "metadata": {},
     "output_type": "execute_result"
    }
   ],
   "source": [
    "df= pd.read_csv('phone.csv')\n",
    "df.head()"
   ]
  },
  {
   "cell_type": "markdown",
   "id": "897978f8",
   "metadata": {},
   "source": [
    "# BASIC EDA"
   ]
  },
  {
   "cell_type": "code",
   "execution_count": 122,
   "id": "bb3e3681",
   "metadata": {},
   "outputs": [
    {
     "data": {
      "text/plain": [
       "date            0\n",
       "duration        0\n",
       "item            0\n",
       "month           0\n",
       "network         0\n",
       "network_type    0\n",
       "dtype: int64"
      ]
     },
     "execution_count": 122,
     "metadata": {},
     "output_type": "execute_result"
    }
   ],
   "source": [
    "df.isnull().sum()"
   ]
  },
  {
   "cell_type": "code",
   "execution_count": null,
   "id": "6e26ce54",
   "metadata": {},
   "outputs": [],
   "source": [
    "# There are no null values"
   ]
  },
  {
   "cell_type": "code",
   "execution_count": 123,
   "id": "513420d3",
   "metadata": {},
   "outputs": [
    {
     "data": {
      "text/plain": [
       "date             object\n",
       "duration        float64\n",
       "item             object\n",
       "month            object\n",
       "network          object\n",
       "network_type     object\n",
       "dtype: object"
      ]
     },
     "execution_count": 123,
     "metadata": {},
     "output_type": "execute_result"
    }
   ],
   "source": [
    "df.dtypes"
   ]
  },
  {
   "cell_type": "code",
   "execution_count": 94,
   "id": "b477edd3",
   "metadata": {},
   "outputs": [],
   "source": [
    "df['date']=pd.to_datetime(df['date'])"
   ]
  },
  {
   "cell_type": "code",
   "execution_count": 95,
   "id": "ded2ca92",
   "metadata": {},
   "outputs": [
    {
     "data": {
      "text/plain": [
       "date            datetime64[ns]\n",
       "duration               float64\n",
       "item                    object\n",
       "month                   object\n",
       "network                 object\n",
       "network_type            object\n",
       "dtype: object"
      ]
     },
     "execution_count": 95,
     "metadata": {},
     "output_type": "execute_result"
    }
   ],
   "source": [
    "df.dtypes"
   ]
  },
  {
   "cell_type": "code",
   "execution_count": 96,
   "id": "c031afee",
   "metadata": {},
   "outputs": [
    {
     "data": {
      "text/plain": [
       "276    2014-12\n",
       "623    2015-02\n",
       "96     2014-11\n",
       "Name: month, dtype: object"
      ]
     },
     "execution_count": 96,
     "metadata": {},
     "output_type": "execute_result"
    }
   ],
   "source": [
    "df['month'].sample(3)"
   ]
  },
  {
   "cell_type": "code",
   "execution_count": 97,
   "id": "1fdb74c5",
   "metadata": {},
   "outputs": [],
   "source": [
    "df['month']=pd.to_datetime(df['month'].str.upper(), format='%Y-%m', yearfirst=False)"
   ]
  },
  {
   "cell_type": "code",
   "execution_count": 98,
   "id": "145f8d94",
   "metadata": {},
   "outputs": [
    {
     "data": {
      "text/plain": [
       "410   2015-01-01\n",
       "642   2015-02-01\n",
       "646   2015-02-01\n",
       "Name: month, dtype: datetime64[ns]"
      ]
     },
     "execution_count": 98,
     "metadata": {},
     "output_type": "execute_result"
    }
   ],
   "source": [
    "df['month'].sample(3)"
   ]
  },
  {
   "cell_type": "code",
   "execution_count": 99,
   "id": "1ce30d52",
   "metadata": {},
   "outputs": [],
   "source": [
    "# Performed Basic EDA stpes by checking for null values , and there were non.\n",
    "# Checked for data type and changed month and date data type to datetime format."
   ]
  },
  {
   "cell_type": "markdown",
   "id": "0c8f333d",
   "metadata": {},
   "source": [
    "a) With 95% & 99% Confidence Interval find the range estimate of average duration calls made by all the network. Which of the Intervals are wider? Interpret the results."
   ]
  },
  {
   "cell_type": "code",
   "execution_count": 100,
   "id": "bf92dff0",
   "metadata": {},
   "outputs": [
    {
     "data": {
      "text/plain": [
       "820"
      ]
     },
     "execution_count": 100,
     "metadata": {},
     "output_type": "execute_result"
    }
   ],
   "source": [
    "len(df['duration'])"
   ]
  },
  {
   "cell_type": "code",
   "execution_count": 70,
   "id": "e82b3dfc",
   "metadata": {},
   "outputs": [
    {
     "name": "stdout",
     "output_type": "stream",
     "text": [
      "[26, 30, 20, 26, 20, 30, 32, 24, 32, 25, 32, 23, 34, 22, 30, 21, 26, 27, 26, 26, 26, 24, 30, 29, 27, 33, 27, 30, 29, 33, 31, 27, 25, 23, 34, 31, 33, 27, 25, 25, 30, 26, 27, 26, 30, 28, 25, 26, 23, 26, 40, 30, 26, 26, 22, 29, 28, 24, 26, 32, 29, 25, 24, 32, 25, 28, 28, 27, 29, 27, 28, 27, 21, 24, 29, 25, 24, 27, 22, 28, 24, 22, 28, 29, 28, 25, 25, 30, 26, 24, 30, 28, 25, 29, 27, 29, 29, 25, 29, 27, 25, 26, 25, 28, 24, 31, 28, 27, 31, 25, 27, 30, 29, 26, 21, 24, 30, 34, 29, 28, 23, 23, 31, 31, 26, 35, 30, 23, 23, 37, 28, 28, 24, 23, 27, 30, 25, 29, 31, 26, 31, 25, 28, 27, 25, 25, 32, 23, 19, 24, 31, 23, 21, 24, 24, 26, 26, 31, 23, 34, 30, 37, 34, 33, 29, 36, 28, 28, 29, 30, 27, 29, 20, 20, 25, 33, 25, 27, 27, 25, 27, 21, 34, 33, 22, 23, 32, 23, 22, 30, 28, 32, 30, 23, 26, 32, 27, 19, 29, 27]\n",
      "Sample mean 27.27\n",
      "Population mean 144.30493555983546\n",
      "Popluation std: 45.65990992661172\n"
     ]
    }
   ],
   "source": [
    "random.seed(1)\n",
    "random_s=random.sample(population=list(df['duration']),k=82)\n",
    "print(random_sample)\n",
    "sample_mean=np.mean(random_sample)\n",
    "pop_std=np.std(df['duration'])\n",
    "pop_mean=np.mean(df['duration'])\n",
    "print('Sample mean',sample_mean)\n",
    "print('Population mean',pop_mean)\n",
    "print('Popluation std:',pop_std)"
   ]
  },
  {
   "cell_type": "code",
   "execution_count": 69,
   "id": "d3a44108",
   "metadata": {},
   "outputs": [
    {
     "name": "stdout",
     "output_type": "stream",
     "text": [
      "95% interval: (17.387286274594693, 37.152713725405306)\n",
      "99% interval: (14.28191255896586, 40.258087441034135)\n"
     ]
    }
   ],
   "source": [
    "interval = stats.norm.interval(0.95,loc=sample_mean,scale=(pop_std/np.sqrt(82)))\n",
    "print('95% interval:',interval)\n",
    "interval_1 = stats.norm.interval(0.99,loc=sample_mean,scale=(pop_std/np.sqrt(82)))\n",
    "print('99% interval:',interval_1)"
   ]
  },
  {
   "cell_type": "code",
   "execution_count": null,
   "id": "069d325a",
   "metadata": {},
   "outputs": [],
   "source": [
    "# 99 % confidence interval is wider than compared to 95%"
   ]
  },
  {
   "cell_type": "markdown",
   "id": "0ed7d3d2",
   "metadata": {},
   "source": [
    "b) Perform statistical analysis to check whether the networks are equally distributed in the dataset."
   ]
  },
  {
   "cell_type": "code",
   "execution_count": 71,
   "id": "987df056",
   "metadata": {},
   "outputs": [
    {
     "data": {
      "text/plain": [
       "Three        215\n",
       "Vodafone     215\n",
       "data         150\n",
       "Meteor        87\n",
       "Tesco         84\n",
       "landline      42\n",
       "voicemail     27\n",
       "Name: network, dtype: int64"
      ]
     },
     "execution_count": 71,
     "metadata": {},
     "output_type": "execute_result"
    }
   ],
   "source": [
    "df['network'].value_counts()"
   ]
  },
  {
   "cell_type": "code",
   "execution_count": 72,
   "id": "33487f58",
   "metadata": {},
   "outputs": [
    {
     "data": {
      "image/png": "[encoded data removed]",
      "text/plain": [
       "<Figure size 432x288 with 1 Axes>"
      ]
     },
     "metadata": {
      "needs_background": "light"
     },
     "output_type": "display_data"
    }
   ],
   "source": [
    "sns.countplot(df['network'])\n",
    "plt.show()"
   ]
  },
  {
   "cell_type": "code",
   "execution_count": 130,
   "id": "080885ac",
   "metadata": {},
   "outputs": [
    {
     "name": "stdout",
     "output_type": "stream",
     "text": [
      "820\n"
     ]
    }
   ],
   "source": [
    "# one sample chi-square\n",
    "n = len(df['network'])\n",
    "print(n)"
   ]
  },
  {
   "cell_type": "code",
   "execution_count": 131,
   "id": "74fd0ab3",
   "metadata": {},
   "outputs": [
    {
     "name": "stdout",
     "output_type": "stream",
     "text": [
      "[215 215 150  87  84  42  27]\n",
      "[117.14285714285714]\n",
      "[117.14285714285714, 117.14285714285714, 117.14285714285714, 117.14285714285714, 117.14285714285714, 117.14285714285714, 117.14285714285714]\n",
      "Power_divergenceResult(statistic=307.409756097561, pvalue=2.112592760257685e-63)\n"
     ]
    }
   ],
   "source": [
    "observed = df['network'].value_counts().values\n",
    "print(observed)\n",
    "expected_freq = []\n",
    "expected_freq.append(n/len(observed))\n",
    "print(expected_freq)\n",
    "expected =expected_freq*7\n",
    "print(expected)\n",
    "print(stats.chisquare(f_obs=observed,f_exp=expected))"
   ]
  },
  {
   "cell_type": "code",
   "execution_count": 132,
   "id": "6aa6b69f",
   "metadata": {},
   "outputs": [],
   "source": [
    "#as p_val < 0.05 we reject null hypothesis that is the data is not equally distributed"
   ]
  },
  {
   "cell_type": "markdown",
   "id": "267167f0",
   "metadata": {},
   "source": [
    "c) Plot the distribution of duration with respect to each network in the same graph and Interpret the results from the graph."
   ]
  },
  {
   "cell_type": "code",
   "execution_count": 73,
   "id": "96a55fea",
   "metadata": {},
   "outputs": [
    {
     "data": {
      "image/png": "[encoded data removed]",
      "text/plain": [
       "<Figure size 432x288 with 1 Axes>"
      ]
     },
     "metadata": {
      "needs_background": "light"
     },
     "output_type": "display_data"
    }
   ],
   "source": [
    "sns.boxplot(df['network'],df['duration'])\n",
    "plt.show()"
   ]
  },
  {
   "cell_type": "code",
   "execution_count": null,
   "id": "c7020e29",
   "metadata": {},
   "outputs": [],
   "source": [
    "# Data , Vodafone,Tesco , Three all these are almost equal medians.\n",
    "# Voicemail has the highest median\n",
    "# Landline the lowest median\n",
    "# The spread of data in vodafone and voice mail are more compared the the rest\n",
    "# # We can observe few outliers in Data"
   ]
  },
  {
   "cell_type": "markdown",
   "id": "fcd8d409",
   "metadata": {},
   "source": [
    "d)\tPerform statistical tests to identify the relation between item and duration. Detailed \n",
    "explanation of relation between the classes is required."
   ]
  },
  {
   "cell_type": "code",
   "execution_count": 75,
   "id": "96bfaeda",
   "metadata": {},
   "outputs": [
    {
     "name": "stdout",
     "output_type": "stream",
     "text": [
      "ShapiroResult(statistic=0.9984679818153381, pvalue=0.701244592666626)\n"
     ]
    }
   ],
   "source": [
    "# As the samples are more than 2 we are going with ANOVA test\n",
    "# Checking for normality\n",
    "\n",
    "# H0 : all the averages are equal / There is no relation ship btw the variables \n",
    "# H1 : Atleast one of the averages are not equal / There is  relation ship btw the variables \n",
    "\n",
    "print(stats.shapiro(df['duration']))"
   ]
  },
  {
   "cell_type": "code",
   "execution_count": null,
   "id": "cdf1c335",
   "metadata": {},
   "outputs": [],
   "source": [
    "# The p val >0.05 hence it is normally distributed."
   ]
  },
  {
   "cell_type": "code",
   "execution_count": 76,
   "id": "a63c4a19",
   "metadata": {},
   "outputs": [
    {
     "data": {
      "text/plain": [
       "call    388\n",
       "sms     282\n",
       "data    150\n",
       "Name: item, dtype: int64"
      ]
     },
     "execution_count": 76,
     "metadata": {},
     "output_type": "execute_result"
    }
   ],
   "source": [
    "df['item'].value_counts()"
   ]
  },
  {
   "cell_type": "code",
   "execution_count": 77,
   "id": "d535760f",
   "metadata": {},
   "outputs": [],
   "source": [
    "df1=df[df['item']=='call']['duration']\n",
    "df2=df[df['item']=='sms']['duration']\n",
    "df3=df[df['item']=='data']['duration']"
   ]
  },
  {
   "cell_type": "code",
   "execution_count": 78,
   "id": "c2f7bc5b",
   "metadata": {},
   "outputs": [
    {
     "name": "stdout",
     "output_type": "stream",
     "text": [
      "LeveneResult(statistic=3.4300976447008478, pvalue=0.03285087780533987)\n"
     ]
    }
   ],
   "source": [
    "# Equality of variance\n",
    "print(stats.levene(df1,df2,df3))"
   ]
  },
  {
   "cell_type": "code",
   "execution_count": 79,
   "id": "1db97e22",
   "metadata": {},
   "outputs": [
    {
     "data": {
      "text/plain": [
       "F_onewayResult(statistic=1.9313964906864995, pvalue=0.1456068656611744)"
      ]
     },
     "execution_count": 79,
     "metadata": {},
     "output_type": "execute_result"
    }
   ],
   "source": [
    "stats.f_oneway(df1,df2,df3)"
   ]
  },
  {
   "cell_type": "code",
   "execution_count": null,
   "id": "97807e68",
   "metadata": {},
   "outputs": [],
   "source": [
    "# We fail to reject null hypothesis i.e there is no relation between variables"
   ]
  },
  {
   "cell_type": "markdown",
   "id": "6030123b",
   "metadata": {},
   "source": [
    "e)\tPerform statistical tests to identify the relation between network and network_type"
   ]
  },
  {
   "cell_type": "code",
   "execution_count": 124,
   "id": "d44201ba",
   "metadata": {},
   "outputs": [
    {
     "data": {
      "text/html": [
       "<div>\n",
       "<style scoped>\n",
       "    .dataframe tbody tr th:only-of-type {\n",
       "        vertical-align: middle;\n",
       "    }\n",
       "\n",
       "    .dataframe tbody tr th {\n",
       "        vertical-align: top;\n",
       "    }\n",
       "\n",
       "    .dataframe thead th {\n",
       "        text-align: right;\n",
       "    }\n",
       "</style>\n",
       "<table border=\"1\" class=\"dataframe\">\n",
       "  <thead>\n",
       "    <tr style=\"text-align: right;\">\n",
       "      <th>network</th>\n",
       "      <th>Meteor</th>\n",
       "      <th>Tesco</th>\n",
       "      <th>Three</th>\n",
       "      <th>Vodafone</th>\n",
       "      <th>data</th>\n",
       "      <th>landline</th>\n",
       "      <th>voicemail</th>\n",
       "    </tr>\n",
       "    <tr>\n",
       "      <th>network_type</th>\n",
       "      <th></th>\n",
       "      <th></th>\n",
       "      <th></th>\n",
       "      <th></th>\n",
       "      <th></th>\n",
       "      <th></th>\n",
       "      <th></th>\n",
       "    </tr>\n",
       "  </thead>\n",
       "  <tbody>\n",
       "    <tr>\n",
       "      <th>data</th>\n",
       "      <td>0</td>\n",
       "      <td>0</td>\n",
       "      <td>0</td>\n",
       "      <td>0</td>\n",
       "      <td>150</td>\n",
       "      <td>0</td>\n",
       "      <td>0</td>\n",
       "    </tr>\n",
       "    <tr>\n",
       "      <th>landline</th>\n",
       "      <td>0</td>\n",
       "      <td>0</td>\n",
       "      <td>0</td>\n",
       "      <td>0</td>\n",
       "      <td>0</td>\n",
       "      <td>42</td>\n",
       "      <td>0</td>\n",
       "    </tr>\n",
       "    <tr>\n",
       "      <th>mobile</th>\n",
       "      <td>87</td>\n",
       "      <td>84</td>\n",
       "      <td>215</td>\n",
       "      <td>215</td>\n",
       "      <td>0</td>\n",
       "      <td>0</td>\n",
       "      <td>0</td>\n",
       "    </tr>\n",
       "    <tr>\n",
       "      <th>voicemail</th>\n",
       "      <td>0</td>\n",
       "      <td>0</td>\n",
       "      <td>0</td>\n",
       "      <td>0</td>\n",
       "      <td>0</td>\n",
       "      <td>0</td>\n",
       "      <td>27</td>\n",
       "    </tr>\n",
       "  </tbody>\n",
       "</table>\n",
       "</div>"
      ],
      "text/plain": [
       "network       Meteor  Tesco  Three  Vodafone  data  landline  voicemail\n",
       "network_type                                                           \n",
       "data               0      0      0         0   150         0          0\n",
       "landline           0      0      0         0     0        42          0\n",
       "mobile            87     84    215       215     0         0          0\n",
       "voicemail          0      0      0         0     0         0         27"
      ]
     },
     "execution_count": 124,
     "metadata": {},
     "output_type": "execute_result"
    }
   ],
   "source": [
    "pd.crosstab(df['network_type'],df['network'])"
   ]
  },
  {
   "cell_type": "code",
   "execution_count": 125,
   "id": "822474f1",
   "metadata": {},
   "outputs": [
    {
     "name": "stdout",
     "output_type": "stream",
     "text": [
      "Chi: 2460.0\n",
      "P value 0.0\n",
      "df: 18\n",
      "expected [[ 15.91463415  15.36585366  39.32926829  39.32926829  27.43902439\n",
      "    7.68292683   4.93902439]\n",
      " [  4.45609756   4.30243902  11.01219512  11.01219512   7.68292683\n",
      "    2.15121951   1.38292683]\n",
      " [ 63.76463415  61.56585366 157.57926829 157.57926829 109.93902439\n",
      "   30.78292683  19.78902439]\n",
      " [  2.86463415   2.76585366   7.07926829   7.07926829   4.93902439\n",
      "    1.38292683   0.88902439]]\n"
     ]
    }
   ],
   "source": [
    "chivalue,p,df,expected=stats.chi2_contingency(pd.crosstab(df['network_type'],df['network']))\n",
    "print('Chi:',chivalue)\n",
    "print('P value',p)\n",
    "print('df:',df)\n",
    "print('expected',expected)"
   ]
  },
  {
   "cell_type": "code",
   "execution_count": null,
   "id": "49830d18",
   "metadata": {},
   "outputs": [],
   "source": [
    "# Rejecting Null hypothesis and saying there is a relation btw these two variables"
   ]
  }
 ],
 "metadata": {
  "kernelspec": {
   "display_name": "Python 3 (ipykernel)",
   "language": "python",
   "name": "python3"
  },
  "language_info": {
   "codemirror_mode": {
    "name": "ipython",
    "version": 3
   },
   "file_extension": ".py",
   "mimetype": "text/x-python",
   "name": "python",
   "nbconvert_exporter": "python",
   "pygments_lexer": "ipython3",
   "version": "3.9.12"
  },
  "toc": {
   "base_numbering": 1,
   "nav_menu": {},
   "number_sections": true,
   "sideBar": true,
   "skip_h1_title": false,
   "title_cell": "Table of Contents",
   "title_sidebar": "Contents",
   "toc_cell": false,
   "toc_position": {},
   "toc_section_display": true,
   "toc_window_display": false
  },
  "varInspector": {
   "cols": {
    "lenName": 16,
    "lenType": 16,
    "lenVar": 40
   },
   "kernels_config": {
    "python": {
     "delete_cmd_postfix": "",
     "delete_cmd_prefix": "del ",
     "library": "var_list.py",
     "varRefreshCmd": "print(var_dic_list())"
    },
    "r": {
     "delete_cmd_postfix": ") ",
     "delete_cmd_prefix": "rm(",
     "library": "var_list.r",
     "varRefreshCmd": "cat(var_dic_list()) "
    }
   },
   "types_to_exclude": [
    "module",
    "function",
    "builtin_function_or_method",
    "instance",
    "_Feature"
   ],
   "window_display": false
  }
 },
 "nbformat": 4,
 "nbformat_minor": 5
}
